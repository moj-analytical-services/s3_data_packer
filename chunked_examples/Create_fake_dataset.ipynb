{
 "cells": [
  {
   "cell_type": "code",
   "execution_count": null,
   "id": "29670116-ed6c-4e8e-a574-bff7fc4ac546",
   "metadata": {},
   "outputs": [],
   "source": [
    "from mimesis import Person\n",
    "from mimesis import Address\n",
    "from mimesis import Datetime\n",
    "import pandas as pd\n",
    "import random\n",
    "import awswrangler as wr\n",
    "\n",
    "person = Person()\n",
    "address = Address()\n",
    "datetime = Datetime()\n",
    "\n",
    "def create_rows(num=1):\n",
    "    output = [\n",
    "        {\n",
    "            \"name\": person.full_name(),\n",
    "            \"email\": person.email(),\n",
    "            \"address\": address.address(),\n",
    "            \"city\":address.city(),\n",
    "            \"state\":address.state(),\n",
    "            \"date_time\":datetime.datetime(),\n",
    "            \"price\":random.randint(10,2000)} \n",
    "        for x in range(num)\n",
    "    ]\n",
    "    return pd.DataFrame(output)"
   ]
  },
  {
   "cell_type": "code",
   "execution_count": null,
   "id": "f5adf812-8441-4718-8a96-db4945801c43",
   "metadata": {},
   "outputs": [],
   "source": [
    "df = pd.DataFrame(create_rows(100000))"
   ]
  },
  {
   "cell_type": "code",
   "execution_count": null,
   "id": "c67b5170-1ea3-4047-b477-13e7dd2d1b49",
   "metadata": {},
   "outputs": [],
   "source": [
    "df"
   ]
  },
  {
   "cell_type": "code",
   "execution_count": null,
   "id": "1a1ad4ca-192b-45a7-b212-0ef8c5087c4d",
   "metadata": {},
   "outputs": [],
   "source": [
    "for i in range(1, 101):\n",
    "    df = pd.DataFrame(create_rows(1000000))\n",
    "    wr.s3.to_csv(df, f\"s3://alpha-everyone/s3_data_packer_test/land/big/test_{i:03d}.csv\")"
   ]
  },
  {
   "cell_type": "code",
   "execution_count": null,
   "id": "382f21a1-b3b8-44f3-b308-954cf1d6d9e5",
   "metadata": {},
   "outputs": [],
   "source": [
    "df"
   ]
  },
  {
   "cell_type": "code",
   "execution_count": null,
   "id": "6b32876d-411f-49b7-b03f-047913e125ad",
   "metadata": {},
   "outputs": [],
   "source": [
    "for i in range(1, 10):\n",
    "    df = pd.DataFrame(create_rows(1000000))\n",
    "    wr.s3.to_csv(df, f\"s3://alpha-everyone/s3_data_packer_test/land2/big/test_{i:03d}.csv\")\n",
    "for i in range(1, 10):\n",
    "    df = pd.DataFrame(create_rows(1000000))\n",
    "    wr.s3.to_csv(df, f\"s3://alpha-everyone/s3_data_packer_test/land3/big/test_{i:03d}.csv\")    "
   ]
  },
  {
   "cell_type": "code",
   "execution_count": null,
   "id": "4619fcb8-81cd-410c-88d8-2ebaafc39e53",
   "metadata": {},
   "outputs": [],
   "source": []
  }
 ],
 "metadata": {
  "kernelspec": {
   "display_name": "Python, s3_data_packer",
   "language": "python",
   "name": "s3_data_packer"
  },
  "language_info": {
   "codemirror_mode": {
    "name": "ipython",
    "version": 3
   },
   "file_extension": ".py",
   "mimetype": "text/x-python",
   "name": "python",
   "nbconvert_exporter": "python",
   "pygments_lexer": "ipython3",
   "version": "3.9.6"
  }
 },
 "nbformat": 4,
 "nbformat_minor": 5
}
