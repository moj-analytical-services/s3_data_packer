{
 "cells": [
  {
   "cell_type": "code",
   "execution_count": null,
   "id": "0288da22-62dc-4655-bb7d-a76f4d6c4c33",
   "metadata": {},
   "outputs": [],
   "source": [
    "from s3_data_packer.s3_data_packer import S3BigDataPacker\n",
    "import awswrangler as wr"
   ]
  },
  {
   "cell_type": "code",
   "execution_count": null,
   "id": "e967bbcd-21a1-4cc6-b5df-fc589948c2e2",
   "metadata": {},
   "outputs": [],
   "source": [
    "wr.s3.delete_objects(\"s3://alpha-everyone/s3_data_packer_test/packed\")"
   ]
  },
  {
   "cell_type": "code",
   "execution_count": null,
   "id": "488e8833-4be5-4a3d-8875-35f1730bdc52",
   "metadata": {},
   "outputs": [],
   "source": [
    "packer = S3BigDataPacker(\n",
    "    \"s3://alpha-everyone/s3_data_packer_test/land\",\n",
    "    \"s3://alpha-everyone/s3_data_packer_test/packed\",\n",
    "    \"big\",\n",
    "    read_chunksize=2500000,\n",
    ")"
   ]
  },
  {
   "cell_type": "code",
   "execution_count": null,
   "id": "2daf51f9-85fc-417d-882e-a7cbcbb7bf4d",
   "metadata": {},
   "outputs": [],
   "source": [
    "packer.pack_data()"
   ]
  },
  {
   "cell_type": "code",
   "execution_count": null,
   "id": "f7080fdb-727b-444f-9b3b-86951fe47111",
   "metadata": {},
   "outputs": [],
   "source": [
    "packer2 = S3BigDataPacker(\n",
    "    \"s3://alpha-everyone/s3_data_packer_test/land2\",\n",
    "    \"s3://alpha-everyone/s3_data_packer_test/packed\",\n",
    "    \"big\",\n",
    "    read_chunksize=2500000,\n",
    ")"
   ]
  },
  {
   "cell_type": "code",
   "execution_count": null,
   "id": "f17a70f1-63c3-4a67-93a8-a391101a0424",
   "metadata": {},
   "outputs": [],
   "source": [
    "packer2.pack_data()"
   ]
  },
  {
   "cell_type": "code",
   "execution_count": null,
   "id": "94f37c32-df37-4d7f-a0dc-ea3de3c57418",
   "metadata": {},
   "outputs": [],
   "source": [
    "packer_csv = S3BigDataPacker(\n",
    "    \"s3://alpha-everyone/s3_data_packer_test/land\",\n",
    "    \"s3://alpha-everyone/s3_data_packer_test/packed_csv\",\n",
    "    \"big\",\n",
    "    read_chunksize=2500000,\n",
    "    output_file_ext=\".csv\"\n",
    ")"
   ]
  },
  {
   "cell_type": "code",
   "execution_count": null,
   "id": "040bdd68-e16d-4315-a980-cf01553d1fe7",
   "metadata": {},
   "outputs": [],
   "source": [
    "packer_csv.pack_data()"
   ]
  },
  {
   "cell_type": "code",
   "execution_count": null,
   "id": "62d2f06c-017d-4677-94e3-410a0976492e",
   "metadata": {},
   "outputs": [],
   "source": [
    "packer_csv2 = S3BigDataPacker(\n",
    "    \"s3://alpha-everyone/s3_data_packer_test/land2\",\n",
    "    \"s3://alpha-everyone/s3_data_packer_test/packed_csv\",\n",
    "    \"big\",\n",
    "    read_chunksize=2500000,\n",
    "    output_file_ext=\".csv\"\n",
    ")\n",
    "packer_csv2.pack_data()"
   ]
  },
  {
   "cell_type": "code",
   "execution_count": null,
   "id": "3e66175d-e624-422d-963e-590e85ccd677",
   "metadata": {},
   "outputs": [],
   "source": [
    "packer_json = S3BigDataPacker(\n",
    "    \"s3://alpha-everyone/s3_data_packer_test/land\",\n",
    "    \"s3://alpha-everyone/s3_data_packer_test/packed_json\",\n",
    "    \"big\",\n",
    "    read_chunksize=2500000,\n",
    "    output_file_ext=\".jsonl\"\n",
    ")"
   ]
  },
  {
   "cell_type": "code",
   "execution_count": null,
   "id": "f2658358-0a1a-4713-a4ae-a7e5e90e984c",
   "metadata": {},
   "outputs": [],
   "source": [
    "packer_json.pack_data()"
   ]
  },
  {
   "cell_type": "code",
   "execution_count": null,
   "id": "eda2b358-0d8f-4a51-b588-bc322b5ae6cd",
   "metadata": {},
   "outputs": [],
   "source": [
    "packer_json2 = S3BigDataPacker(\n",
    "    \"s3://alpha-everyone/s3_data_packer_test/land2\",\n",
    "    \"s3://alpha-everyone/s3_data_packer_test/packed_json\",\n",
    "    \"big\",\n",
    "    read_chunksize=2500000,\n",
    "    output_file_ext=\".jsonl\"\n",
    ")"
   ]
  },
  {
   "cell_type": "code",
   "execution_count": null,
   "id": "f1dfc72c-3768-4f85-b2c6-571ed1b9b2c4",
   "metadata": {},
   "outputs": [],
   "source": [
    "packer_json2.pack_data()"
   ]
  },
  {
   "cell_type": "code",
   "execution_count": null,
   "id": "9c6631fc-26af-4a1e-8b7c-c1092ab11f27",
   "metadata": {},
   "outputs": [],
   "source": []
  }
 ],
 "metadata": {
  "kernelspec": {
   "display_name": "Python, s3_data_packer",
   "language": "python",
   "name": "s3_data_packer"
  },
  "language_info": {
   "codemirror_mode": {
    "name": "ipython",
    "version": 3
   },
   "file_extension": ".py",
   "mimetype": "text/x-python",
   "name": "python",
   "nbconvert_exporter": "python",
   "pygments_lexer": "ipython3",
   "version": "3.9.6"
  }
 },
 "nbformat": 4,
 "nbformat_minor": 5
}
